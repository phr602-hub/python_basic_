{
 "cells": [
  {
   "cell_type": "markdown",
   "id": "b1008099-96f6-4bea-8614-f9f5275fe933",
   "metadata": {},
   "source": [
    "## 1. 파이썬 함수"
   ]
  },
  {
   "cell_type": "code",
   "execution_count": 8,
   "id": "86cdd845-cdc8-46da-917f-a3137fb126cd",
   "metadata": {},
   "outputs": [
    {
     "name": "stdout",
     "output_type": "stream",
     "text": [
      "7\n",
      "333\n"
     ]
    }
   ],
   "source": [
    "def add(a,b):\n",
    "    return (a+b)\n",
    "\n",
    "a,b = 3,4\n",
    "c = add(a,b)\n",
    "print(c)\n",
    "\n",
    "d = add(111,222)\n",
    "print(d)"
   ]
  },
  {
   "cell_type": "code",
   "execution_count": null,
   "id": "afb800ba-b7de-4bcc-a3a1-61798292ef00",
   "metadata": {},
   "outputs": [],
   "source": [
    "# 1. 매개변수 0 리턴값 0\n",
    "def minus(a,b):\n",
    "    return = a - b\n",
    "    returun result\n",
    "\n",
    "a = minus(10,4)\n",
    "print(d)"
   ]
  },
  {
   "cell_type": "code",
   "execution_count": 20,
   "id": "b9ce0e5b-4cb9-4489-9779-198f4701a3c5",
   "metadata": {},
   "outputs": [
    {
     "name": "stdout",
     "output_type": "stream",
     "text": [
      "Hi!\n"
     ]
    }
   ],
   "source": [
    "#2. 매개변수 x 리턴값 o \n",
    "def say():\n",
    "    return 'Hi!'\n",
    "\n",
    "print(say())"
   ]
  },
  {
   "cell_type": "code",
   "execution_count": 21,
   "id": "68dfa913-e380-43b1-9924-5502b405bfb3",
   "metadata": {},
   "outputs": [
    {
     "name": "stdout",
     "output_type": "stream",
     "text": [
      "12, 24의 힘은 36입니다.\n",
      "3, 4의 힘은 7입니다.\n",
      "None\n"
     ]
    }
   ],
   "source": [
    "#3. 매개변수 o 리턴값 x\n",
    "def add(x,y):\n",
    "    print(\"%d, %d의 힘은 %d입니다.\"%(x,y,x+y))\n",
    "\n",
    "add(12,24)\n",
    "\n",
    "a = add(3,4)\n",
    "print(a)"
   ]
  },
  {
   "cell_type": "code",
   "execution_count": 22,
   "id": "128cc91c-6288-4514-826c-f6366626cf94",
   "metadata": {},
   "outputs": [
    {
     "name": "stdout",
     "output_type": "stream",
     "text": [
      "Hi~\n"
     ]
    }
   ],
   "source": [
    "#4.매개변수 x 리턴값 x\n",
    "def say():\n",
    "    print('Hi~')\n",
    "\n",
    "say()"
   ]
  },
  {
   "cell_type": "code",
   "execution_count": 25,
   "id": "c47fe044-51a6-4234-ab88-dfa0511d1a11",
   "metadata": {},
   "outputs": [
    {
     "name": "stdout",
     "output_type": "stream",
     "text": [
      "4\n",
      "4\n"
     ]
    }
   ],
   "source": [
    "# 키워드 매개변수\n",
    "def sub(a,b):\n",
    "    return a - b\n",
    "\n",
    "result = sub(7,3)\n",
    "print(result)\n",
    "\n",
    "result2 = sub(b=3,a=7)\n",
    "print(result2)"
   ]
  },
  {
   "cell_type": "code",
   "execution_count": 27,
   "id": "7c8ba2d7-277b-4e6c-85ae-151a09aeedc7",
   "metadata": {},
   "outputs": [
    {
     "name": "stdout",
     "output_type": "stream",
     "text": [
      "15\n",
      "55\n"
     ]
    }
   ],
   "source": [
    "# 가변 매개변수(*매개변수명)\n",
    "def add_many(*args):\n",
    "    result=0\n",
    "    for i in args:\n",
    "        result += i\n",
    "    return result\n",
    "\n",
    "res1 = add_many(1,2,3,4,5)\n",
    "print(res1)\n",
    "\n",
    "res2 = add_many(1,2,3,4,5,6,7,8,9,10)\n",
    "print(res2)"
   ]
  },
  {
   "cell_type": "code",
   "execution_count": 38,
   "id": "e8e7dcea-c326-4dc1-b6a1-12fad7b1dd11",
   "metadata": {},
   "outputs": [
    {
     "name": "stdout",
     "output_type": "stream",
     "text": [
      "6\n",
      "6\n"
     ]
    }
   ],
   "source": [
    "# 덧셈, 곱셈 둘다 연산 가능한 함수\n",
    "def add_mul(choice, *args):\n",
    "    if choice == 'add':\n",
    "        result = 0 \n",
    "        for i in args:\n",
    "            result += i\n",
    "    elif choice == 'mul':\n",
    "         result = 1 \n",
    "         for i in args:\n",
    "            result *= i\n",
    "    return result\n",
    "\n",
    "res1 = add_mul('add',1,2,3)\n",
    "print(res1)\n",
    "\n",
    "res2 = add_mul('mul',1,2,3)\n",
    "print(res2)"
   ]
  },
  {
   "cell_type": "code",
   "execution_count": 36,
   "id": "2561bfc1-a8fd-4967-ad52-b30198a19a25",
   "metadata": {},
   "outputs": [
    {
     "name": "stdout",
     "output_type": "stream",
     "text": [
      "{'a': 1}\n",
      "{'name': 'foo', 'age': 3}\n"
     ]
    }
   ],
   "source": [
    "#키워드 가변 매개변수(**매개변수)\n",
    "def print_kwargs(**kwargs):\n",
    "    print(kwargs)\n",
    "\n",
    "print_kwargs(a=1)\n",
    "\n",
    "print_kwargs(name='foo',age=3)"
   ]
  },
  {
   "cell_type": "code",
   "execution_count": 42,
   "id": "c4b2dec3-645c-4677-b748-ef96a288ae86",
   "metadata": {},
   "outputs": [
    {
     "name": "stdout",
     "output_type": "stream",
     "text": [
      "(7, 12)\n",
      "a+b= 7\n",
      "a*b= 12\n"
     ]
    }
   ],
   "source": [
    "# 함수의 리턴값은 하나!!\n",
    "def add_and_mul(a,b):\n",
    "    return a+b, a*b\n",
    "\n",
    "res = add_and_mul(3,4)\n",
    "print(res)\n",
    "\n",
    "res1,res2 = add_and_mul(3,4)\n",
    "print(\"a+b=\",res1)\n",
    "print(\"a*b=\",res2)"
   ]
  },
  {
   "cell_type": "code",
   "execution_count": 43,
   "id": "be9e40d1-67dc-4599-a44e-b95797b7a4a7",
   "metadata": {},
   "outputs": [
    {
     "name": "stdout",
     "output_type": "stream",
     "text": [
      "5\n"
     ]
    }
   ],
   "source": [
    "def add_and_mul(a,b):\n",
    "    return a+b \n",
    "    return a*b\n",
    "\n",
    "res = add_and_mul(2,3)\n",
    "print(res)"
   ]
  },
  {
   "cell_type": "code",
   "execution_count": 45,
   "id": "e7025b51-95b0-438f-95a4-d9b9939c4ca4",
   "metadata": {},
   "outputs": [
    {
     "name": "stdout",
     "output_type": "stream",
     "text": [
      "나의 별명은 야호 입니다.\n"
     ]
    }
   ],
   "source": [
    "#return의 또 다른 쓰임새\n",
    "def say_nick(nick):\n",
    "    if nick =='바보':\n",
    "        return\n",
    "    print(\"나의 별명은 %s 입니다.\" %nick)\n",
    "\n",
    "say_nick('야호')\n",
    "say_nick('바보')"
   ]
  },
  {
   "cell_type": "code",
   "execution_count": 48,
   "id": "11bdb541-72d9-4eb4-8643-bdf5eca00370",
   "metadata": {},
   "outputs": [
    {
     "name": "stdout",
     "output_type": "stream",
     "text": [
      "나의 이름은 정수민입니다.\n",
      "나이는 26살 입니다.\n",
      "남자입니다.\n",
      "나의 이름은 박혜림입니다.\n",
      "나이는 22살 입니다.\n",
      "여자입니다.\n"
     ]
    }
   ],
   "source": [
    "# 매개변수에 초기값 설정\n",
    "def say_myself(name,age,man=True):\n",
    "    print(f\"나의 이름은 {name}입니다.\")\n",
    "    print(f\"나이는 {age}살 입니다.\")\n",
    "    if man:\n",
    "        print(\"남자입니다.\")\n",
    "    else:\n",
    "        print(\"여자입니다.\")\n",
    "\n",
    "# 함수 호출\n",
    "say_myself('정수민', 26)\n",
    "\n",
    "say_myself('박혜림', 22, False)"
   ]
  },
  {
   "cell_type": "code",
   "execution_count": 49,
   "id": "78530f03-fafd-4bd7-96d1-40b83cc09f3c",
   "metadata": {},
   "outputs": [
    {
     "ename": "SyntaxError",
     "evalue": "parameter without a default follows parameter with a default (486011591.py, line 2)",
     "output_type": "error",
     "traceback": [
      "\u001b[1;36m  Cell \u001b[1;32mIn[49], line 2\u001b[1;36m\u001b[0m\n\u001b[1;33m    def say_myself(name,man=True,age):\u001b[0m\n\u001b[1;37m                                 ^\u001b[0m\n\u001b[1;31mSyntaxError\u001b[0m\u001b[1;31m:\u001b[0m parameter without a default follows parameter with a default\n"
     ]
    }
   ],
   "source": [
    "# 매개변수에 초기값 설정\n",
    "def say_myself(name,man=True,age):  \n",
    "    print(f\"나의 이름은 {name}입니다.\")\n",
    "    print(f\"나이는 {age}살 입니다.\")\n",
    "    if man:\n",
    "        print(\"남자입니다.\")\n",
    "    else:\n",
    "        print(\"여자입니다.\")\n",
    "\n",
    "# 함수 호출\n",
    "say_myself('정수민', 26)\n",
    "\n",
    "say_myself('박혜림', 22, False)"
   ]
  },
  {
   "cell_type": "code",
   "execution_count": 60,
   "id": "ce910132-2767-4a22-8edf-ebd589aa1ecc",
   "metadata": {},
   "outputs": [
    {
     "name": "stdout",
     "output_type": "stream",
     "text": [
      "1\n"
     ]
    }
   ],
   "source": [
    "# 함수의 유효범위\n",
    "a = 1\n",
    "def vartest(a):\n",
    "    a = a + 1\n",
    "\n",
    "vartest(a)  #아무것도 실행 안됨\n",
    "print(a)  #함수 밖에 있는 a가 출력됨"
   ]
  },
  {
   "cell_type": "code",
   "execution_count": 61,
   "id": "a7a898f6-cb8e-42a9-95d9-62906e5305ea",
   "metadata": {},
   "outputs": [
    {
     "name": "stdout",
     "output_type": "stream",
     "text": [
      "2\n"
     ]
    }
   ],
   "source": [
    "# 함수의 유효범위 => 1.return사용하기\n",
    "a = 1\n",
    "def vartest(x):\n",
    "    x = x + 1\n",
    "    return x\n",
    "\n",
    "a = vartest(a)  #함수 실행하면 a값 반환되고, a변수에 덮어씀.\n",
    "print(a)  "
   ]
  },
  {
   "cell_type": "code",
   "execution_count": 66,
   "id": "20bea079-3abd-4158-af1b-87f2b937c29d",
   "metadata": {},
   "outputs": [
    {
     "name": "stdout",
     "output_type": "stream",
     "text": [
      "2\n"
     ]
    }
   ],
   "source": [
    "# 함수의 유효범위 => 2.global 명령어 사용하기\n",
    "a = 1\n",
    "def vartest():\n",
    "    global a # 함수 안에서 a는 전역변수로 변경됨\n",
    "    a += 1\n",
    "\n",
    "vartest()\n",
    "print(a)"
   ]
  },
  {
   "cell_type": "code",
   "execution_count": 67,
   "id": "c8f7d155-a88e-43a6-ba06-3bac34622fb9",
   "metadata": {},
   "outputs": [
    {
     "name": "stdout",
     "output_type": "stream",
     "text": [
      "7\n"
     ]
    }
   ],
   "source": [
    "# lambda 표현식(예약어)사용 안 하고 함수 선언\n",
    "def add(a,b):\n",
    "    return a+b\n",
    "\n",
    "print(add(3,4))"
   ]
  },
  {
   "cell_type": "code",
   "execution_count": 69,
   "id": "9c076caf-26dd-4264-acc1-8c53221fb90a",
   "metadata": {},
   "outputs": [
    {
     "name": "stdout",
     "output_type": "stream",
     "text": [
      "7\n"
     ]
    }
   ],
   "source": [
    "# lambda 표현식(예약어)사용하여 표현\n",
    "add = lambda a,b : a+b\n",
    "print(add(3,4))"
   ]
  },
  {
   "cell_type": "markdown",
   "id": "c0b20f83-f57d-4b8b-b2c2-ed29d5151404",
   "metadata": {},
   "source": [
    "## 2. 함수의 활용"
   ]
  },
  {
   "cell_type": "markdown",
   "id": "07679594-75c3-4dc0-a512-e18783d9dc24",
   "metadata": {},
   "source": [
    "### 1) 재귀함수\n",
    ": 내가 만든 함수를 다시 호출하는 것 "
   ]
  },
  {
   "cell_type": "code",
   "execution_count": 70,
   "id": "b3b7e3d6-191e-4577-bbaa-74e10062a39b",
   "metadata": {},
   "outputs": [
    {
     "name": "stdout",
     "output_type": "stream",
     "text": [
      "5! =  120\n"
     ]
    }
   ],
   "source": [
    "# 반복문으로 팩토리얼 구하기\n",
    "def factorial(n):\n",
    "    output= 1\n",
    "    for i in range(1, n+1):\n",
    "        output *= i \n",
    "    return output\n",
    "\n",
    "print('5! = ', factorial(5))"
   ]
  },
  {
   "cell_type": "code",
   "execution_count": 71,
   "id": "920a0ac0-8c45-4e21-8a2a-5077b074567f",
   "metadata": {},
   "outputs": [
    {
     "name": "stdout",
     "output_type": "stream",
     "text": [
      "5! =  120\n"
     ]
    }
   ],
   "source": [
    "# 재귀 함수로 팩토리얼 구하기\n",
    "def factorial(n):\n",
    "    if n == 0:\n",
    "        return 1\n",
    "    else:\n",
    "        return n * factorial(n-1)\n",
    "\n",
    "print('5! = ', factorial(5))"
   ]
  },
  {
   "cell_type": "markdown",
   "id": "aecbd423-5558-4f9c-b30c-182ab6197b8e",
   "metadata": {},
   "source": [
    "### 2) 리스트 평탄화하는 재귀함수 만들기"
   ]
  },
  {
   "cell_type": "code",
   "execution_count": 73,
   "id": "a5876883-d200-4d29-b14a-436a3fbabd9c",
   "metadata": {},
   "outputs": [
    {
     "name": "stdout",
     "output_type": "stream",
     "text": [
      "4\n",
      "원본 : [[1, 2, 3], [4, [5, 6]], 7, [8, 9]]\n",
      "평탄화 : [1, 2, 3, 4, [5, 6], 7, 8, 9]\n"
     ]
    }
   ],
   "source": [
    "#반복문으로 리스트 평탄화\n",
    "def flatten(data):\n",
    "    output= []\n",
    "    for item in data:\n",
    "        if type(item) == list:\n",
    "            output += item\n",
    "        else:\n",
    "            output.append(item)\n",
    "    return output\n",
    "\n",
    "example = [[1,2,3],[4,[5,6]],7,[8,9]]\n",
    "print(len(example))\n",
    "print('원본 :',example)\n",
    "print('평탄화 :',flatten(example))"
   ]
  },
  {
   "cell_type": "code",
   "execution_count": 74,
   "id": "81785df0-f118-4cee-a170-1706b3d73aaf",
   "metadata": {},
   "outputs": [
    {
     "name": "stdout",
     "output_type": "stream",
     "text": [
      "4\n",
      "원본 : [[1, 2, 3], [4, [5, 6]], 7, [8, 9]]\n",
      "평탄화 : [1, 2, 3, 4, 5, 6, 7, 8, 9]\n"
     ]
    }
   ],
   "source": [
    "# 재귀 함수로 리스트 평탄화\n",
    "def flatten(data):\n",
    "    output= []\n",
    "    for item in data:\n",
    "        if type(item) == list:\n",
    "            output += flatten(item)\n",
    "        else:\n",
    "            output.append(item)\n",
    "    return output\n",
    "\n",
    "example = [[1,2,3],[4,[5,6]],7,[8,9]]\n",
    "print(len(example))\n",
    "print('원본 :',example)\n",
    "print('평탄화 :',flatten(example))"
   ]
  },
  {
   "cell_type": "code",
   "execution_count": null,
   "id": "58bf6608-8d9c-4358-aac8-facef4e84c52",
   "metadata": {},
   "outputs": [],
   "source": []
  }
 ],
 "metadata": {
  "kernelspec": {
   "display_name": "Python 3 (ipykernel)",
   "language": "python",
   "name": "python3"
  },
  "language_info": {
   "codemirror_mode": {
    "name": "ipython",
    "version": 3
   },
   "file_extension": ".py",
   "mimetype": "text/x-python",
   "name": "python",
   "nbconvert_exporter": "python",
   "pygments_lexer": "ipython3",
   "version": "3.13.5"
  }
 },
 "nbformat": 4,
 "nbformat_minor": 5
}
