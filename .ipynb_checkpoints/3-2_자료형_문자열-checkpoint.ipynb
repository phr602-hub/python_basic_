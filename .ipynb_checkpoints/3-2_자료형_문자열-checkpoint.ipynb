{
 "cells": [
  {
   "cell_type": "code",
   "execution_count": null,
   "id": "ac4f40b6-6ad9-40af-aa3c-59385dc55852",
   "metadata": {},
   "outputs": [],
   "source": [
    "## 3-2_자료형 - 문자열"
   ]
  },
  {
   "cell_type": "code",
   "execution_count": 1,
   "id": "98d1fb29-39a6-4501-8771-9d961966650f",
   "metadata": {},
   "outputs": [
    {
     "name": "stdout",
     "output_type": "stream",
     "text": [
      "Python's favorite food is perl\n",
      "<class 'str'>\n"
     ]
    }
   ],
   "source": [
    "food = \"Python's favorite food is perl\"\n",
    "print(food)\n",
    "print(type(food))"
   ]
  },
  {
   "cell_type": "code",
   "execution_count": 3,
   "id": "258a5ad0-8612-4c36-a5af-7b24e110783f",
   "metadata": {},
   "outputs": [
    {
     "name": "stdout",
     "output_type": "stream",
     "text": [
      "Python's favorite food is perl\n",
      "<class 'str'>\n"
     ]
    }
   ],
   "source": [
    "food = 'Python\\'s favorite food is perl'\n",
    "print(food)\n",
    "print(type(food))"
   ]
  },
  {
   "cell_type": "code",
   "execution_count": 4,
   "id": "82004b4f-592a-4c48-9bf4-2aa9c59a3168",
   "metadata": {},
   "outputs": [
    {
     "data": {
      "text/plain": [
       "'\"Python is very easy.\" he says.'"
      ]
     },
     "execution_count": 4,
     "metadata": {},
     "output_type": "execute_result"
    }
   ],
   "source": [
    "say = '\"Python is very easy.\" he says.'\n",
    "say"
   ]
  },
  {
   "cell_type": "code",
   "execution_count": 5,
   "id": "1aebebd0-163a-4da6-9c22-cf464e9118f5",
   "metadata": {},
   "outputs": [
    {
     "name": "stdout",
     "output_type": "stream",
     "text": [
      "\"Python is very easy.\" he says.\n"
     ]
    }
   ],
   "source": [
    "print(say)"
   ]
  },
  {
   "cell_type": "code",
   "execution_count": 10,
   "id": "c3a57f8f-4cab-4b40-9e07-847a20e657c1",
   "metadata": {},
   "outputs": [
    {
     "data": {
      "text/plain": [
       "'\"Python is very easy.\" he says.'"
      ]
     },
     "execution_count": 10,
     "metadata": {},
     "output_type": "execute_result"
    }
   ],
   "source": [
    "say = \"\\\"Python is very easy.\\\" he says.\"\n",
    "say "
   ]
  },
  {
   "cell_type": "code",
   "execution_count": 11,
   "id": "a9010698-d221-4b24-b870-94dc3bc19655",
   "metadata": {},
   "outputs": [
    {
     "name": "stdout",
     "output_type": "stream",
     "text": [
      "Life is too short You need python\n"
     ]
    }
   ],
   "source": [
    "multiline = \"Life is too short You need python\"\n",
    "print(multiline)"
   ]
  },
  {
   "cell_type": "code",
   "execution_count": 12,
   "id": "577eb3e2-e527-441e-959a-bb89f9da312b",
   "metadata": {},
   "outputs": [
    {
     "name": "stdout",
     "output_type": "stream",
     "text": [
      "Life is too short \n",
      "You need python\n"
     ]
    }
   ],
   "source": [
    "multiline = \"Life is too short \\nYou need python\"\n",
    "print(multiline)"
   ]
  },
  {
   "cell_type": "markdown",
   "id": "d8bdb755-2c8c-4416-b8af-f528246dedcb",
   "metadata": {},
   "source": [
    "### 문자열 연산"
   ]
  },
  {
   "cell_type": "code",
   "execution_count": 14,
   "id": "dcc8d7a9-415e-4eff-a757-11fab8f6c503",
   "metadata": {},
   "outputs": [
    {
     "data": {
      "text/plain": [
       "'Python is fun!'"
      ]
     },
     "execution_count": 14,
     "metadata": {},
     "output_type": "execute_result"
    }
   ],
   "source": [
    "head = \"Python\"\n",
    "tail = \" is fun!\"\n",
    "\n",
    "head + tail"
   ]
  },
  {
   "cell_type": "code",
   "execution_count": 16,
   "id": "741e6ef4-6c9e-4a92-a8a5-306f0d6a65fa",
   "metadata": {},
   "outputs": [
    {
     "name": "stdout",
     "output_type": "stream",
     "text": [
      "PythonPython\n",
      "PythonPythonPython\n"
     ]
    }
   ],
   "source": [
    "a = \"Python\"\n",
    "print(a*2)\n",
    "print(a*3)"
   ]
  },
  {
   "cell_type": "code",
   "execution_count": 17,
   "id": "466c62e3-6050-4464-a835-1c8e1073fabe",
   "metadata": {},
   "outputs": [
    {
     "name": "stdout",
     "output_type": "stream",
     "text": [
      "==================================================\n",
      "Python\n",
      "==================================================\n"
     ]
    }
   ],
   "source": [
    "print('='*50)\n",
    "print('Python')\n",
    "print('='*50)"
   ]
  },
  {
   "cell_type": "markdown",
   "id": "397be405-98e2-49f8-b24c-cb3582f4d18e",
   "metadata": {},
   "source": [
    "### 문자열 길이 구하기"
   ]
  },
  {
   "cell_type": "code",
   "execution_count": 18,
   "id": "98c52b2a-ed01-4fc0-9f48-e46ec9ee7958",
   "metadata": {},
   "outputs": [
    {
     "data": {
      "text/plain": [
       "17"
      ]
     },
     "execution_count": 18,
     "metadata": {},
     "output_type": "execute_result"
    }
   ],
   "source": [
    "a = \"Life is too short\"\n",
    "len(a)"
   ]
  },
  {
   "cell_type": "markdown",
   "id": "a962a84c-9161-43ff-a361-f79d39b4a324",
   "metadata": {},
   "source": [
    "### 문자열 인덱싱"
   ]
  },
  {
   "cell_type": "code",
   "execution_count": 19,
   "id": "5d64315c-5422-4a2d-ab2b-da4eca75afa9",
   "metadata": {},
   "outputs": [],
   "source": [
    "a = \"Life is too short, You need Python\""
   ]
  },
  {
   "cell_type": "code",
   "execution_count": 20,
   "id": "1b49fdbb-681b-49fe-b758-41ba5ca90211",
   "metadata": {},
   "outputs": [
    {
     "data": {
      "text/plain": [
       "'L'"
      ]
     },
     "execution_count": 20,
     "metadata": {},
     "output_type": "execute_result"
    }
   ],
   "source": [
    "a[0]"
   ]
  },
  {
   "cell_type": "code",
   "execution_count": 22,
   "id": "8d657700-012a-4f26-ac7d-b18eca37e703",
   "metadata": {},
   "outputs": [
    {
     "data": {
      "text/plain": [
       "'i'"
      ]
     },
     "execution_count": 22,
     "metadata": {},
     "output_type": "execute_result"
    }
   ],
   "source": [
    "a[5]"
   ]
  },
  {
   "cell_type": "code",
   "execution_count": 23,
   "id": "4bc43876-0538-455c-bd42-cfa403fe658e",
   "metadata": {},
   "outputs": [
    {
     "data": {
      "text/plain": [
       "34"
      ]
     },
     "execution_count": 23,
     "metadata": {},
     "output_type": "execute_result"
    }
   ],
   "source": [
    "len(a)"
   ]
  },
  {
   "cell_type": "code",
   "execution_count": 24,
   "id": "35d7cbfe-3c80-454d-8cdd-06285ea9cffc",
   "metadata": {},
   "outputs": [
    {
     "data": {
      "text/plain": [
       "'n'"
      ]
     },
     "execution_count": 24,
     "metadata": {},
     "output_type": "execute_result"
    }
   ],
   "source": [
    "a[33]"
   ]
  },
  {
   "cell_type": "code",
   "execution_count": 27,
   "id": "3280168a-eca7-4ea4-90a7-5751740cb2a1",
   "metadata": {},
   "outputs": [
    {
     "data": {
      "text/plain": [
       "'n'"
      ]
     },
     "execution_count": 27,
     "metadata": {},
     "output_type": "execute_result"
    }
   ],
   "source": [
    "a[-1]  # 뒤에서 부터 찾기"
   ]
  },
  {
   "cell_type": "code",
   "execution_count": 28,
   "id": "798dad8c-2add-440f-bdcd-e82986964ecf",
   "metadata": {},
   "outputs": [
    {
     "data": {
      "text/plain": [
       "'o'"
      ]
     },
     "execution_count": 28,
     "metadata": {},
     "output_type": "execute_result"
    }
   ],
   "source": [
    "a[-2]  # 뒤에서 두번째"
   ]
  },
  {
   "cell_type": "markdown",
   "id": "5fe6be59-6143-46bd-9782-be1fb8c7f1f4",
   "metadata": {},
   "source": [
    "### 문자열 슬라이싱"
   ]
  },
  {
   "cell_type": "code",
   "execution_count": 29,
   "id": "9142da18-ee65-4a43-abdb-344702ab29e5",
   "metadata": {},
   "outputs": [
    {
     "name": "stdout",
     "output_type": "stream",
     "text": [
      "Life\n"
     ]
    }
   ],
   "source": [
    "b = a[0] + a[1] + a[2] + a[3]\n",
    "print(b)    # 문자열 슬라이싱 하기 전"
   ]
  },
  {
   "cell_type": "code",
   "execution_count": 30,
   "id": "ea7d4137-94ba-4041-8e4f-dedfb03cd018",
   "metadata": {},
   "outputs": [
    {
     "data": {
      "text/plain": [
       "'Life'"
      ]
     },
     "execution_count": 30,
     "metadata": {},
     "output_type": "execute_result"
    }
   ],
   "source": [
    "a[0:4]"
   ]
  },
  {
   "cell_type": "code",
   "execution_count": 31,
   "id": "a19c55fd-3345-4bae-90e5-ca24caf32106",
   "metadata": {},
   "outputs": [
    {
     "data": {
      "text/plain": [
       "'short'"
      ]
     },
     "execution_count": 31,
     "metadata": {},
     "output_type": "execute_result"
    }
   ],
   "source": [
    "# 문자열에서 short 문자 슬라이싱\n",
    "a[12:17]"
   ]
  },
  {
   "cell_type": "code",
   "execution_count": 32,
   "id": "3bddfdc7-2abe-4ca7-b25a-d96829fad490",
   "metadata": {},
   "outputs": [
    {
     "data": {
      "text/plain": [
       "'need'"
      ]
     },
     "execution_count": 32,
     "metadata": {},
     "output_type": "execute_result"
    }
   ],
   "source": [
    "# need\n",
    "a[23:27]"
   ]
  },
  {
   "cell_type": "code",
   "execution_count": 33,
   "id": "20372d00-da74-4b96-b9af-0569bd325c75",
   "metadata": {},
   "outputs": [
    {
     "data": {
      "text/plain": [
       "'Python'"
      ]
     },
     "execution_count": 33,
     "metadata": {},
     "output_type": "execute_result"
    }
   ],
   "source": [
    "a[28:34]"
   ]
  },
  {
   "cell_type": "code",
   "execution_count": 35,
   "id": "6560cf55-bbe1-4302-8195-8cda648d6562",
   "metadata": {},
   "outputs": [
    {
     "data": {
      "text/plain": [
       "'Python'"
      ]
     },
     "execution_count": 35,
     "metadata": {},
     "output_type": "execute_result"
    }
   ],
   "source": [
    "a[28:]"
   ]
  },
  {
   "cell_type": "code",
   "execution_count": 36,
   "id": "81b46672-7f3d-4f92-a03f-fc57ff9b19be",
   "metadata": {},
   "outputs": [
    {
     "data": {
      "text/plain": [
       "'Life'"
      ]
     },
     "execution_count": 36,
     "metadata": {},
     "output_type": "execute_result"
    }
   ],
   "source": [
    "a[:4]"
   ]
  },
  {
   "cell_type": "code",
   "execution_count": 37,
   "id": "ccb0cf69-af54-4266-a1bf-d96b260ad5f5",
   "metadata": {},
   "outputs": [
    {
     "data": {
      "text/plain": [
       "'Life is too short'"
      ]
     },
     "execution_count": 37,
     "metadata": {},
     "output_type": "execute_result"
    }
   ],
   "source": [
    "a[:17]"
   ]
  },
  {
   "cell_type": "code",
   "execution_count": 41,
   "id": "36e088b8-35bb-4a52-865c-f416bf073e9e",
   "metadata": {},
   "outputs": [
    {
     "data": {
      "text/plain": [
       "'Life is too short, You need Python'"
      ]
     },
     "execution_count": 41,
     "metadata": {},
     "output_type": "execute_result"
    }
   ],
   "source": [
    "a[:]"
   ]
  },
  {
   "cell_type": "code",
   "execution_count": 42,
   "id": "1ac807cf-442c-44d9-b4e2-41e5acf57c89",
   "metadata": {},
   "outputs": [
    {
     "data": {
      "text/plain": [
       "'Life is too short, You need Python'"
      ]
     },
     "execution_count": 42,
     "metadata": {},
     "output_type": "execute_result"
    }
   ],
   "source": [
    "a"
   ]
  },
  {
   "cell_type": "code",
   "execution_count": 45,
   "id": "0270ce71-38d5-4324-aed4-75c11dbca50e",
   "metadata": {},
   "outputs": [
    {
     "data": {
      "text/plain": [
       "'Python'"
      ]
     },
     "execution_count": 45,
     "metadata": {},
     "output_type": "execute_result"
    }
   ],
   "source": [
    "a[28:]"
   ]
  },
  {
   "cell_type": "code",
   "execution_count": 46,
   "id": "5a05456e-2de3-4041-9307-af1961b2e6cc",
   "metadata": {},
   "outputs": [
    {
     "data": {
      "text/plain": [
       "''"
      ]
     },
     "execution_count": 46,
     "metadata": {},
     "output_type": "execute_result"
    }
   ],
   "source": [
    "a[28:0] # 슬라이싱 안됨"
   ]
  },
  {
   "cell_type": "code",
   "execution_count": 47,
   "id": "e96b1e38-073a-424e-932a-a7ea0b9db2c6",
   "metadata": {},
   "outputs": [
    {
     "name": "stdout",
     "output_type": "stream",
     "text": [
      "<class 'str'>\n"
     ]
    }
   ],
   "source": [
    "a = \"123\"\n",
    "print(type(a))"
   ]
  },
  {
   "cell_type": "code",
   "execution_count": 105,
   "id": "ca44b38d-1141-46c3-bff9-a2036e0ae6ff",
   "metadata": {},
   "outputs": [
    {
     "ename": "TypeError",
     "evalue": "unsupported operand type(s) for /: 'str' and 'list'",
     "output_type": "error",
     "traceback": [
      "\u001b[1;31m---------------------------------------------------------------------------\u001b[0m",
      "\u001b[1;31mTypeError\u001b[0m                                 Traceback (most recent call last)",
      "Cell \u001b[1;32mIn[105], line 2\u001b[0m\n\u001b[0;32m      1\u001b[0m b \u001b[38;5;241m=\u001b[39m [\u001b[38;5;241m10\u001b[39m]\n\u001b[1;32m----> 2\u001b[0m a\u001b[38;5;241m/\u001b[39mb\n",
      "\u001b[1;31mTypeError\u001b[0m: unsupported operand type(s) for /: 'str' and 'list'"
     ]
    }
   ],
   "source": [
    "b = [10]\n",
    "a/b"
   ]
  },
  {
   "cell_type": "markdown",
   "id": "3bd1f5d0-a03b-4d78-9d1e-47b97b43c705",
   "metadata": {},
   "source": [
    "## Pithon 문자열을 Python으로 바꾸려면?"
   ]
  },
  {
   "cell_type": "code",
   "execution_count": 5,
   "id": "e0207acb-0d7b-438d-a8c5-a453bbefb4d6",
   "metadata": {},
   "outputs": [
    {
     "data": {
      "text/plain": [
       "'i'"
      ]
     },
     "execution_count": 5,
     "metadata": {},
     "output_type": "execute_result"
    }
   ],
   "source": [
    "a = \"Pithon\"\n",
    "a[1]"
   ]
  },
  {
   "cell_type": "code",
   "execution_count": 6,
   "id": "8e6d10b6-9e5a-4776-9826-e91fbe03ff9b",
   "metadata": {},
   "outputs": [
    {
     "ename": "TypeError",
     "evalue": "'str' object does not support item assignment",
     "output_type": "error",
     "traceback": [
      "\u001b[1;31m---------------------------------------------------------------------------\u001b[0m",
      "\u001b[1;31mTypeError\u001b[0m                                 Traceback (most recent call last)",
      "Cell \u001b[1;32mIn[6], line 1\u001b[0m\n\u001b[1;32m----> 1\u001b[0m a[\u001b[38;5;241m1\u001b[39m] \u001b[38;5;241m=\u001b[39m \u001b[38;5;124m'\u001b[39m\u001b[38;5;124my\u001b[39m\u001b[38;5;124m'\u001b[39m\n",
      "\u001b[1;31mTypeError\u001b[0m: 'str' object does not support item assignment"
     ]
    }
   ],
   "source": [
    "a[1] = 'y'"
   ]
  },
  {
   "cell_type": "code",
   "execution_count": 7,
   "id": "0d66f3a5-50be-4282-aeff-2f57b8264f5a",
   "metadata": {},
   "outputs": [
    {
     "data": {
      "text/plain": [
       "'P'"
      ]
     },
     "execution_count": 7,
     "metadata": {},
     "output_type": "execute_result"
    }
   ],
   "source": [
    "a = \"Pithon\"\n",
    "a[:1]"
   ]
  },
  {
   "cell_type": "code",
   "execution_count": 8,
   "id": "7e131f7f-a74f-47c9-81a6-563d818879a1",
   "metadata": {},
   "outputs": [
    {
     "data": {
      "text/plain": [
       "'thon'"
      ]
     },
     "execution_count": 8,
     "metadata": {},
     "output_type": "execute_result"
    }
   ],
   "source": [
    "a[2:]"
   ]
  },
  {
   "cell_type": "code",
   "execution_count": 9,
   "id": "25374f26-6e09-4b27-8fa9-cb90764599b2",
   "metadata": {},
   "outputs": [
    {
     "data": {
      "text/plain": [
       "'Python'"
      ]
     },
     "execution_count": 9,
     "metadata": {},
     "output_type": "execute_result"
    }
   ],
   "source": [
    "a[:1] + 'y' + a[2:]"
   ]
  },
  {
   "cell_type": "markdown",
   "id": "2fb75fbc-87c3-454e-9a0d-4cb50e1656c7",
   "metadata": {},
   "source": [
    "## 문자열 포매팅"
   ]
  },
  {
   "cell_type": "code",
   "execution_count": 10,
   "id": "79e6b3a7-bd65-48fa-ac99-c56f174fa617",
   "metadata": {},
   "outputs": [
    {
     "data": {
      "text/plain": [
       "'I eat 2 apples.'"
      ]
     },
     "execution_count": 10,
     "metadata": {},
     "output_type": "execute_result"
    }
   ],
   "source": [
    "\"I eat %d apples.\" % 2"
   ]
  },
  {
   "cell_type": "code",
   "execution_count": 11,
   "id": "1b09c034-5e79-49dd-b5aa-d380439a788b",
   "metadata": {},
   "outputs": [
    {
     "ename": "NameError",
     "evalue": "name 'abc' is not defined",
     "output_type": "error",
     "traceback": [
      "\u001b[1;31m---------------------------------------------------------------------------\u001b[0m",
      "\u001b[1;31mNameError\u001b[0m                                 Traceback (most recent call last)",
      "Cell \u001b[1;32mIn[11], line 1\u001b[0m\n\u001b[1;32m----> 1\u001b[0m \u001b[38;5;124m\"\u001b[39m\u001b[38;5;124mI eat \u001b[39m\u001b[38;5;132;01m%d\u001b[39;00m\u001b[38;5;124m apples.\u001b[39m\u001b[38;5;124m\"\u001b[39m \u001b[38;5;241m%\u001b[39m abc\n",
      "\u001b[1;31mNameError\u001b[0m: name 'abc' is not defined"
     ]
    }
   ],
   "source": [
    "\"I eat %d apples.\" % abc"
   ]
  },
  {
   "cell_type": "code",
   "execution_count": 13,
   "id": "d6e030d3-11ad-4788-8c90-cab764ffc3ef",
   "metadata": {},
   "outputs": [
    {
     "data": {
      "text/plain": [
       "'I eat abc apples.'"
      ]
     },
     "execution_count": 13,
     "metadata": {},
     "output_type": "execute_result"
    }
   ],
   "source": [
    "\"I eat %s apples.\" % \"abc\""
   ]
  },
  {
   "cell_type": "code",
   "execution_count": 14,
   "id": "6c150a31-2b48-4d6b-aaee-5b4a4f3c854f",
   "metadata": {},
   "outputs": [
    {
     "data": {
      "text/plain": [
       "'I eat 5 apples.'"
      ]
     },
     "execution_count": 14,
     "metadata": {},
     "output_type": "execute_result"
    }
   ],
   "source": [
    "\"I eat %s apples.\" % 5"
   ]
  },
  {
   "cell_type": "code",
   "execution_count": 15,
   "id": "d57e9672-0d14-4520-90d2-2aba486c9b76",
   "metadata": {},
   "outputs": [
    {
     "data": {
      "text/plain": [
       "'I eat 3 apples.'"
      ]
     },
     "execution_count": 15,
     "metadata": {},
     "output_type": "execute_result"
    }
   ],
   "source": [
    "number = 3\n",
    "\"I eat %d apples.\" % number"
   ]
  },
  {
   "cell_type": "code",
   "execution_count": 17,
   "id": "f7d9b3c7-ffaa-4e3b-99ee-161afec93aa4",
   "metadata": {},
   "outputs": [
    {
     "data": {
      "text/plain": [
       "'I ate 10 apples, so I was sick for three days.'"
      ]
     },
     "execution_count": 17,
     "metadata": {},
     "output_type": "execute_result"
    }
   ],
   "source": [
    "number = 10\n",
    "day = \"three\"\n",
    "\"I ate %d apples, so I was sick for %s days.\"%(number, day)"
   ]
  },
  {
   "cell_type": "code",
   "execution_count": 106,
   "id": "1b611cc0-a0c6-46a0-8f75-94a73109be25",
   "metadata": {},
   "outputs": [
    {
     "data": {
      "text/plain": [
       "'Error is 98%.'"
      ]
     },
     "execution_count": 106,
     "metadata": {},
     "output_type": "execute_result"
    }
   ],
   "source": [
    "# 포맷코드와 문자%를 같이 사용\n",
    "\"Error is %d%%.\"%98"
   ]
  },
  {
   "cell_type": "code",
   "execution_count": 23,
   "id": "6d9a9ece-90b7-44f7-ba77-73952eedee35",
   "metadata": {},
   "outputs": [
    {
     "data": {
      "text/plain": [
       "'        hi'"
      ]
     },
     "execution_count": 23,
     "metadata": {},
     "output_type": "execute_result"
    }
   ],
   "source": [
    "a = \"%10s\"%\"hi\"\n",
    "a"
   ]
  },
  {
   "cell_type": "code",
   "execution_count": 24,
   "id": "98f99e24-3f08-4d10-aad5-77afd048511f",
   "metadata": {},
   "outputs": [
    {
     "data": {
      "text/plain": [
       "10"
      ]
     },
     "execution_count": 24,
     "metadata": {},
     "output_type": "execute_result"
    }
   ],
   "source": [
    "len(a)"
   ]
  },
  {
   "cell_type": "markdown",
   "id": "497c85e6-fa99-461a-85d0-c130879f8a2e",
   "metadata": {},
   "source": [
    "a = \"%-10s\"%\"hi\"\n",
    "a"
   ]
  },
  {
   "cell_type": "code",
   "execution_count": 25,
   "id": "bd768183-ff98-47f6-aac8-7c1ace3ea71b",
   "metadata": {},
   "outputs": [
    {
     "data": {
      "text/plain": [
       "'3.4213'"
      ]
     },
     "execution_count": 25,
     "metadata": {},
     "output_type": "execute_result"
    }
   ],
   "source": [
    "\"%0.4f\" % 3.42134234"
   ]
  },
  {
   "cell_type": "code",
   "execution_count": 27,
   "id": "1568e55e-1302-44eb-b359-2b5104c41bbe",
   "metadata": {},
   "outputs": [
    {
     "data": {
      "text/plain": [
       "'    3.4213'"
      ]
     },
     "execution_count": 27,
     "metadata": {},
     "output_type": "execute_result"
    }
   ],
   "source": [
    "f = \"%10.4f\" % 3.42134234\n",
    "f"
   ]
  },
  {
   "cell_type": "code",
   "execution_count": 28,
   "id": "bb587cf0-46c9-4746-8579-82d068757382",
   "metadata": {},
   "outputs": [
    {
     "data": {
      "text/plain": [
       "10"
      ]
     },
     "execution_count": 28,
     "metadata": {},
     "output_type": "execute_result"
    }
   ],
   "source": [
    "len(f)"
   ]
  },
  {
   "cell_type": "code",
   "execution_count": 32,
   "id": "d7ab71a2-bf38-42e3-9dc6-1b3576b89853",
   "metadata": {},
   "outputs": [
    {
     "data": {
      "text/plain": [
       "'I eat 3 apples.'"
      ]
     },
     "execution_count": 32,
     "metadata": {},
     "output_type": "execute_result"
    }
   ],
   "source": [
    "\"I eat {} apples.\".format(3)"
   ]
  },
  {
   "cell_type": "code",
   "execution_count": 33,
   "id": "6f71f5ba-04bb-4897-aa51-f452d0a84441",
   "metadata": {},
   "outputs": [
    {
     "data": {
      "text/plain": [
       "'I eat five apples.'"
      ]
     },
     "execution_count": 33,
     "metadata": {},
     "output_type": "execute_result"
    }
   ],
   "source": [
    "\"I eat {} apples.\".format(\"five\")"
   ]
  },
  {
   "cell_type": "code",
   "execution_count": 34,
   "id": "5e11636a-c721-4c24-9271-27b6a6d5ac84",
   "metadata": {},
   "outputs": [
    {
     "data": {
      "text/plain": [
       "'I eat 3 apples.'"
      ]
     },
     "execution_count": 34,
     "metadata": {},
     "output_type": "execute_result"
    }
   ],
   "source": [
    "number = 3\n",
    "\"I eat {} apples.\".format(number)"
   ]
  },
  {
   "cell_type": "code",
   "execution_count": 35,
   "id": "f3f3b9df-a7a0-4a6e-81ec-aa0c2c8eafd4",
   "metadata": {},
   "outputs": [
    {
     "data": {
      "text/plain": [
       "'I ate 10 apples, so I was sick for three days.'"
      ]
     },
     "execution_count": 35,
     "metadata": {},
     "output_type": "execute_result"
    }
   ],
   "source": [
    "\"I ate {} apples, so I was sick for {} days.\".format(10, \"three\")"
   ]
  },
  {
   "cell_type": "code",
   "execution_count": 36,
   "id": "ba2708f1-a280-4bac-8597-451b4cb48f0f",
   "metadata": {},
   "outputs": [
    {
     "data": {
      "text/plain": [
       "'I ate three apples, so I was sick for 10 days.'"
      ]
     },
     "execution_count": 36,
     "metadata": {},
     "output_type": "execute_result"
    }
   ],
   "source": [
    "\"I ate {1} apples, so I was sick for {0} days.\".format(10, \"three\")"
   ]
  },
  {
   "cell_type": "code",
   "execution_count": 40,
   "id": "db408387-6d3a-4d8c-bfba-fd32834770ba",
   "metadata": {},
   "outputs": [
    {
     "data": {
      "text/plain": [
       "'I ate 3 apples, so I was sick for 3 days.'"
      ]
     },
     "execution_count": 40,
     "metadata": {},
     "output_type": "execute_result"
    }
   ],
   "source": [
    "nember = 10\n",
    "day = 3 \n",
    "\n",
    "\"I ate {number} apples, so I was sick for {day} days.\".format(number=number,day=day)"
   ]
  },
  {
   "cell_type": "code",
   "execution_count": 42,
   "id": "d50ea895-67bb-458c-97d9-7fd4d7f0bb77",
   "metadata": {},
   "outputs": [
    {
     "data": {
      "text/plain": [
       "'hi        '"
      ]
     },
     "execution_count": 42,
     "metadata": {},
     "output_type": "execute_result"
    }
   ],
   "source": [
    "\"{:10}\". format('hi')"
   ]
  },
  {
   "cell_type": "code",
   "execution_count": 43,
   "id": "edda3d55-ce95-49e6-926a-c4c800710fb7",
   "metadata": {},
   "outputs": [
    {
     "data": {
      "text/plain": [
       "'        hi'"
      ]
     },
     "execution_count": 43,
     "metadata": {},
     "output_type": "execute_result"
    }
   ],
   "source": [
    "\"{:>10}\". format('hi')"
   ]
  },
  {
   "cell_type": "code",
   "execution_count": 44,
   "id": "3a3dfc53-7970-4837-aa3e-903b1988101b",
   "metadata": {},
   "outputs": [
    {
     "data": {
      "text/plain": [
       "'    hi    '"
      ]
     },
     "execution_count": 44,
     "metadata": {},
     "output_type": "execute_result"
    }
   ],
   "source": [
    "\"{:^10}\". format('hi')"
   ]
  },
  {
   "cell_type": "code",
   "execution_count": 46,
   "id": "261f12a5-0dd8-4c6f-aa3c-8d192317d077",
   "metadata": {},
   "outputs": [
    {
     "data": {
      "text/plain": [
       "'    hi    '"
      ]
     },
     "execution_count": 46,
     "metadata": {},
     "output_type": "execute_result"
    }
   ],
   "source": [
    "\"{:^10}\". format('hi')"
   ]
  },
  {
   "cell_type": "code",
   "execution_count": 47,
   "id": "6204901b-8469-4db9-8bc4-ef1ef7b82f5f",
   "metadata": {},
   "outputs": [
    {
     "data": {
      "text/plain": [
       "'====hi===='"
      ]
     },
     "execution_count": 47,
     "metadata": {},
     "output_type": "execute_result"
    }
   ],
   "source": [
    "\"{:=^10}\". format('hi')"
   ]
  },
  {
   "cell_type": "code",
   "execution_count": 48,
   "id": "df4b0e23-70ef-4855-8d7b-e164d169d75a",
   "metadata": {},
   "outputs": [
    {
     "data": {
      "text/plain": [
       "'hi!!!!!!!!'"
      ]
     },
     "execution_count": 48,
     "metadata": {},
     "output_type": "execute_result"
    }
   ],
   "source": [
    "\"{:!<10}\". format('hi')"
   ]
  },
  {
   "cell_type": "code",
   "execution_count": 49,
   "id": "cf80a9ea-9044-44c2-8681-e081e6e63829",
   "metadata": {},
   "outputs": [
    {
     "data": {
      "text/plain": [
       "'3.4213'"
      ]
     },
     "execution_count": 49,
     "metadata": {},
     "output_type": "execute_result"
    }
   ],
   "source": [
    "\"{:0.4f}\". format(3.42134234)"
   ]
  },
  {
   "cell_type": "code",
   "execution_count": 50,
   "id": "150d2a6a-356d-45cb-a30d-09c679533513",
   "metadata": {},
   "outputs": [
    {
     "data": {
      "text/plain": [
       "'    3.4213'"
      ]
     },
     "execution_count": 50,
     "metadata": {},
     "output_type": "execute_result"
    }
   ],
   "source": [
    "\"{:10.4f}\". format(3.42134234)"
   ]
  },
  {
   "cell_type": "code",
   "execution_count": 51,
   "id": "8baf1def-0903-43e4-a48a-457e6f389344",
   "metadata": {},
   "outputs": [
    {
     "data": {
      "text/plain": [
       "'{and}'"
      ]
     },
     "execution_count": 51,
     "metadata": {},
     "output_type": "execute_result"
    }
   ],
   "source": [
    "\"{{and}}\".format()"
   ]
  },
  {
   "cell_type": "code",
   "execution_count": 52,
   "id": "dc68b3aa-7f0f-4887-a8b7-d8339da4977c",
   "metadata": {},
   "outputs": [
    {
     "data": {
      "text/plain": [
       "'{and}'"
      ]
     },
     "execution_count": 52,
     "metadata": {},
     "output_type": "execute_result"
    }
   ],
   "source": [
    "\"{}\".format('{and}')"
   ]
  },
  {
   "cell_type": "code",
   "execution_count": 53,
   "id": "941cfc2d-44b5-480a-835c-bc95f0ce3185",
   "metadata": {},
   "outputs": [
    {
     "data": {
      "text/plain": [
       "'나의 이름은 박혜림입니다. 나이는 22입니다.'"
      ]
     },
     "execution_count": 53,
     "metadata": {},
     "output_type": "execute_result"
    }
   ],
   "source": [
    "name = '박혜림'\n",
    "age = 22\n",
    "\n",
    "f\"나의 이름은 {name}입니다. 나이는 {age}입니다.\""
   ]
  },
  {
   "cell_type": "code",
   "execution_count": 54,
   "id": "5a8af5dc-9919-4604-b059-79ab69d725dd",
   "metadata": {},
   "outputs": [
    {
     "data": {
      "text/plain": [
       "'나는 내년에 23살이 됩니다.'"
      ]
     },
     "execution_count": 54,
     "metadata": {},
     "output_type": "execute_result"
    }
   ],
   "source": [
    "age = 22 \n",
    "f\"나는 내년에 {age+1}살이 됩니다.\""
   ]
  },
  {
   "cell_type": "code",
   "execution_count": 55,
   "id": "4c1e8ae7-b460-4c2e-9182-c88c96328cec",
   "metadata": {},
   "outputs": [
    {
     "data": {
      "text/plain": [
       "'나의 이름은 박혜림입니다. 나이는 22입니다.'"
      ]
     },
     "execution_count": 55,
     "metadata": {},
     "output_type": "execute_result"
    }
   ],
   "source": [
    "d = {'name':'박혜림','age':22}\n",
    "f\"나의 이름은 {d['name']}입니다. 나이는 {d['age']}입니다.\""
   ]
  },
  {
   "cell_type": "code",
   "execution_count": 56,
   "id": "afee96e8-91f1-4370-afeb-ec30b59e26a9",
   "metadata": {},
   "outputs": [
    {
     "data": {
      "text/plain": [
       "'hi        '"
      ]
     },
     "execution_count": 56,
     "metadata": {},
     "output_type": "execute_result"
    }
   ],
   "source": [
    "f\"{\"hi\":<10}\""
   ]
  },
  {
   "cell_type": "code",
   "execution_count": 57,
   "id": "a17c5b94-d846-4981-9e3e-df08d2f5f4fd",
   "metadata": {},
   "outputs": [
    {
     "data": {
      "text/plain": [
       "'    hi    '"
      ]
     },
     "execution_count": 57,
     "metadata": {},
     "output_type": "execute_result"
    }
   ],
   "source": [
    "f\"{\"hi\":^10}\""
   ]
  },
  {
   "cell_type": "code",
   "execution_count": 60,
   "id": "7acf1c25-a804-4ea9-b06a-f6ba775f04db",
   "metadata": {},
   "outputs": [
    {
     "name": "stdout",
     "output_type": "stream",
     "text": [
      "    hi    \n",
      "hi!!!!!!!!\n"
     ]
    }
   ],
   "source": [
    "print (f\"{\"hi\":^10}\")\n",
    "print (f\"{\"hi\":!<10}\")"
   ]
  },
  {
   "cell_type": "code",
   "execution_count": 61,
   "id": "73f81ba2-4388-4373-8050-f9801f0f44a7",
   "metadata": {},
   "outputs": [
    {
     "data": {
      "text/plain": [
       "'3.4123'"
      ]
     },
     "execution_count": 61,
     "metadata": {},
     "output_type": "execute_result"
    }
   ],
   "source": [
    "f\"{3.412342:0.4f}\""
   ]
  },
  {
   "cell_type": "code",
   "execution_count": 62,
   "id": "18bb091f-5903-48ba-ab51-3fd5afca6f25",
   "metadata": {},
   "outputs": [
    {
     "data": {
      "text/plain": [
       "'    3.4123'"
      ]
     },
     "execution_count": 62,
     "metadata": {},
     "output_type": "execute_result"
    }
   ],
   "source": [
    "f\"{3.412342:10.4f}\""
   ]
  },
  {
   "cell_type": "code",
   "execution_count": 63,
   "id": "b358a2c5-5591-4d38-bed9-7d288dbc6068",
   "metadata": {},
   "outputs": [
    {
     "data": {
      "text/plain": [
       "'{and}'"
      ]
     },
     "execution_count": 63,
     "metadata": {},
     "output_type": "execute_result"
    }
   ],
   "source": [
    "f\"{{and}}\""
   ]
  },
  {
   "cell_type": "markdown",
   "id": "0bc69005-cb27-4103-8296-b37edd0ce6d7",
   "metadata": {},
   "source": [
    "## 문자열 관련 함수들"
   ]
  },
  {
   "cell_type": "code",
   "execution_count": 65,
   "id": "30098abc-01aa-4246-9baf-726b4362577e",
   "metadata": {},
   "outputs": [
    {
     "data": {
      "text/plain": [
       "2"
      ]
     },
     "execution_count": 65,
     "metadata": {},
     "output_type": "execute_result"
    }
   ],
   "source": [
    "# count() : 문자 개수 세기\n",
    "\"hobby\".count('b')"
   ]
  },
  {
   "cell_type": "code",
   "execution_count": 108,
   "id": "5ac36986-39a8-441e-90cd-998bd9c37c4b",
   "metadata": {},
   "outputs": [
    {
     "data": {
      "text/plain": [
       "4"
      ]
     },
     "execution_count": 108,
     "metadata": {},
     "output_type": "execute_result"
    }
   ],
   "source": [
    "\"aaddeeeeffffccc\".count('f')"
   ]
  },
  {
   "cell_type": "code",
   "execution_count": 67,
   "id": "4e274c93-1bb0-4faa-ae49-ac457712b1b8",
   "metadata": {},
   "outputs": [
    {
     "data": {
      "text/plain": [
       "14"
      ]
     },
     "execution_count": 67,
     "metadata": {},
     "output_type": "execute_result"
    }
   ],
   "source": [
    "# find() : 함수 찾기\n",
    "\"Python is the best choice\".find('b')"
   ]
  },
  {
   "cell_type": "code",
   "execution_count": 69,
   "id": "50482cf0-7f82-4a29-b0e0-dc263b8f16c5",
   "metadata": {},
   "outputs": [
    {
     "data": {
      "text/plain": [
       "-1"
      ]
     },
     "execution_count": 69,
     "metadata": {},
     "output_type": "execute_result"
    }
   ],
   "source": [
    "\"Python is the best choice\".find('k') # 찾는 문자가 없으면 -1을 반환."
   ]
  },
  {
   "cell_type": "code",
   "execution_count": 70,
   "id": "25a4e51a-1ef0-4f0b-812c-1ef841f18948",
   "metadata": {},
   "outputs": [
    {
     "data": {
      "text/plain": [
       "8"
      ]
     },
     "execution_count": 70,
     "metadata": {},
     "output_type": "execute_result"
    }
   ],
   "source": [
    "# index() : 위치 찾기\n",
    "a = \"Life is too short\"\n",
    "a.index('t')"
   ]
  },
  {
   "cell_type": "code",
   "execution_count": 71,
   "id": "220be05f-ca22-4374-8784-4f0ddd73dc65",
   "metadata": {},
   "outputs": [
    {
     "ename": "ValueError",
     "evalue": "substring not found",
     "output_type": "error",
     "traceback": [
      "\u001b[1;31m---------------------------------------------------------------------------\u001b[0m",
      "\u001b[1;31mValueError\u001b[0m                                Traceback (most recent call last)",
      "Cell \u001b[1;32mIn[71], line 1\u001b[0m\n\u001b[1;32m----> 1\u001b[0m a\u001b[38;5;241m.\u001b[39mindex(\u001b[38;5;124m'\u001b[39m\u001b[38;5;124mk\u001b[39m\u001b[38;5;124m'\u001b[39m)\n",
      "\u001b[1;31mValueError\u001b[0m: substring not found"
     ]
    }
   ],
   "source": [
    "a.index('k')"
   ]
  },
  {
   "cell_type": "code",
   "execution_count": 72,
   "id": "4c4064f1-4259-4115-8752-f54a46dab08b",
   "metadata": {},
   "outputs": [
    {
     "data": {
      "text/plain": [
       "'a,b,c,d'"
      ]
     },
     "execution_count": 72,
     "metadata": {},
     "output_type": "execute_result"
    }
   ],
   "source": [
    "# join() : 문자열을 삽입\n",
    "\",\".join('abcd')"
   ]
  },
  {
   "cell_type": "code",
   "execution_count": 74,
   "id": "dc1afeb9-80ea-44a2-adbb-f011d0c7ffca",
   "metadata": {},
   "outputs": [
    {
     "data": {
      "text/plain": [
       "['a', 'b', 'c', 'd']"
      ]
     },
     "execution_count": 74,
     "metadata": {},
     "output_type": "execute_result"
    }
   ],
   "source": [
    "list = ['a', 'b', 'c', 'd']\n",
    "list"
   ]
  },
  {
   "cell_type": "code",
   "execution_count": 87,
   "id": "0f0b88b6-c59a-42ca-83ab-d61a99733053",
   "metadata": {},
   "outputs": [
    {
     "name": "stdout",
     "output_type": "stream",
     "text": [
      "['a', 'b', 'c', 'd']\n",
      "<class 'list'>\n"
     ]
    }
   ],
   "source": [
    "list_join = ['a', 'b', 'c', 'd']\n",
    "print(list)\n",
    "print(type(list))"
   ]
  },
  {
   "cell_type": "code",
   "execution_count": 88,
   "id": "6e3085a8-941e-4b0e-b26b-0dfb9b6b44f2",
   "metadata": {},
   "outputs": [
    {
     "data": {
      "text/plain": [
       "'abcd'"
      ]
     },
     "execution_count": 88,
     "metadata": {},
     "output_type": "execute_result"
    }
   ],
   "source": [
    "\"\".join(list)"
   ]
  },
  {
   "cell_type": "code",
   "execution_count": 78,
   "id": "af2dedcc-2bda-42bc-8efe-668da67313bb",
   "metadata": {},
   "outputs": [
    {
     "name": "stdout",
     "output_type": "stream",
     "text": [
      "a,b,c,d\n",
      "<class 'str'>\n"
     ]
    }
   ],
   "source": [
    "list_join = ','.join(list)\n",
    "print(list_join)\n",
    "print(type(list_join))"
   ]
  },
  {
   "cell_type": "code",
   "execution_count": 80,
   "id": "2985d3a0-37fa-4490-82d9-f18261efb3d5",
   "metadata": {},
   "outputs": [
    {
     "data": {
      "text/plain": [
       "'HI'"
      ]
     },
     "execution_count": 80,
     "metadata": {},
     "output_type": "execute_result"
    }
   ],
   "source": [
    "# upper() : 소문자를 대문자로\n",
    "\"hi\".upper()"
   ]
  },
  {
   "cell_type": "code",
   "execution_count": 83,
   "id": "44341738-e038-4638-bc7c-4bf32d5778b3",
   "metadata": {},
   "outputs": [
    {
     "data": {
      "text/plain": [
       "'hi'"
      ]
     },
     "execution_count": 83,
     "metadata": {},
     "output_type": "execute_result"
    }
   ],
   "source": [
    "# lower() : 대문자를 소문자로\n",
    "\"HI\".lower()"
   ]
  },
  {
   "cell_type": "code",
   "execution_count": 84,
   "id": "f1ef0612-b8f5-4b62-8367-573cd45f7429",
   "metadata": {},
   "outputs": [
    {
     "data": {
      "text/plain": [
       "'hi   '"
      ]
     },
     "execution_count": 84,
     "metadata": {},
     "output_type": "execute_result"
    }
   ],
   "source": [
    "# lstrip() :왼쪽 공백 제거\n",
    "\"  hi   \".lstrip()"
   ]
  },
  {
   "cell_type": "code",
   "execution_count": 85,
   "id": "58c8378b-8ddc-4fb4-b409-f66ecebf4317",
   "metadata": {},
   "outputs": [
    {
     "data": {
      "text/plain": [
       "'  hi'"
      ]
     },
     "execution_count": 85,
     "metadata": {},
     "output_type": "execute_result"
    }
   ],
   "source": [
    "# rstrip() :왼쪽 공백 제거\n",
    "\"  hi   \".rstrip()"
   ]
  },
  {
   "cell_type": "code",
   "execution_count": 86,
   "id": "0ee24a7d-afcc-4574-8493-cc75fba59fa8",
   "metadata": {},
   "outputs": [
    {
     "data": {
      "text/plain": [
       "'hi'"
      ]
     },
     "execution_count": 86,
     "metadata": {},
     "output_type": "execute_result"
    }
   ],
   "source": [
    "# strip() :왼쪽 공백 제거\n",
    "\"  hi   \".strip()"
   ]
  },
  {
   "cell_type": "code",
   "execution_count": 90,
   "id": "f2909e9a-14fb-457d-a5b8-f5f4c7ec9648",
   "metadata": {},
   "outputs": [
    {
     "data": {
      "text/plain": [
       "'Your leg is too short'"
      ]
     },
     "execution_count": 90,
     "metadata": {},
     "output_type": "execute_result"
    }
   ],
   "source": [
    "# replace() : 문자열 바꾸기\n",
    "\"Life is too short\".replace(\"Life\",\"Your leg\")"
   ]
  },
  {
   "cell_type": "code",
   "execution_count": 109,
   "id": "99692e97-deb2-4fb6-abcd-123ae4ebd886",
   "metadata": {},
   "outputs": [
    {
     "name": "stdout",
     "output_type": "stream",
     "text": [
      "['Life', 'is', 'too', 'short']\n",
      "<class 'list'>\n"
     ]
    }
   ],
   "source": [
    "# split() : 문자열 나누기\n",
    "a = \"Life is too short\"\n",
    "b = a.split()\n",
    "\n",
    "print(b)\n",
    "print(type(b))"
   ]
  },
  {
   "cell_type": "code",
   "execution_count": 94,
   "id": "0a74427a-8275-46d9-93de-3e5f5605b9be",
   "metadata": {},
   "outputs": [
    {
     "data": {
      "text/plain": [
       "['a', 'b', 'c', 'd']"
      ]
     },
     "execution_count": 94,
     "metadata": {},
     "output_type": "execute_result"
    }
   ],
   "source": [
    "c = \"a,b,c,d\"\n",
    "c.split(',')"
   ]
  },
  {
   "cell_type": "code",
   "execution_count": 101,
   "id": "5654ee38-db39-4bf7-908a-0a912358680a",
   "metadata": {},
   "outputs": [
    {
     "data": {
      "text/plain": [
       "'HI'"
      ]
     },
     "execution_count": 101,
     "metadata": {},
     "output_type": "execute_result"
    }
   ],
   "source": [
    "# 착각하기 쉬운 문자열 함수\n",
    "a = \"hi\"\n",
    "a.upper()"
   ]
  },
  {
   "cell_type": "code",
   "execution_count": 102,
   "id": "16e43475-3c94-47d8-a05f-972cd2086907",
   "metadata": {},
   "outputs": [
    {
     "data": {
      "text/plain": [
       "'hi'"
      ]
     },
     "execution_count": 102,
     "metadata": {},
     "output_type": "execute_result"
    }
   ],
   "source": [
    "a  # 원본 데이터는 변경 안 됨."
   ]
  },
  {
   "cell_type": "code",
   "execution_count": 103,
   "id": "7e40a1ce-9e18-45b3-a67f-efef6bb3628b",
   "metadata": {},
   "outputs": [
    {
     "data": {
      "text/plain": [
       "'HI'"
      ]
     },
     "execution_count": 103,
     "metadata": {},
     "output_type": "execute_result"
    }
   ],
   "source": [
    "a = a.upper() # 변경된 데이터는 변수에 대입해야 변수 값이 변경됨\n",
    "\n",
    "a"
   ]
  },
  {
   "cell_type": "code",
   "execution_count": 100,
   "id": "d6f0112c-ae8d-44a5-baf7-8c4009d384a1",
   "metadata": {},
   "outputs": [
    {
     "data": {
      "text/plain": [
       "'HI'"
      ]
     },
     "execution_count": 100,
     "metadata": {},
     "output_type": "execute_result"
    }
   ],
   "source": [
    "a"
   ]
  },
  {
   "cell_type": "code",
   "execution_count": null,
   "id": "f701f033-d7f5-4339-b7ed-ee6395f5656f",
   "metadata": {},
   "outputs": [],
   "source": []
  }
 ],
 "metadata": {
  "kernelspec": {
   "display_name": "Python 3 (ipykernel)",
   "language": "python",
   "name": "python3"
  },
  "language_info": {
   "codemirror_mode": {
    "name": "ipython",
    "version": 3
   },
   "file_extension": ".py",
   "mimetype": "text/x-python",
   "name": "python",
   "nbconvert_exporter": "python",
   "pygments_lexer": "ipython3",
   "version": "3.13.5"
  }
 },
 "nbformat": 4,
 "nbformat_minor": 5
}
