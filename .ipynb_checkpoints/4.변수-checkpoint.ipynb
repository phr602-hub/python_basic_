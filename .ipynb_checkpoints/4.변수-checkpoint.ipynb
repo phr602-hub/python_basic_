{
 "cells": [
  {
   "cell_type": "markdown",
   "id": "aff68b2d-5d73-49e7-b246-ece6b056e724",
   "metadata": {},
   "source": [
    "## 1. 변수란?"
   ]
  },
  {
   "cell_type": "code",
   "execution_count": 1,
   "id": "f065e3e0-1880-4d6a-b1fd-88bfe8c2ae9c",
   "metadata": {},
   "outputs": [
    {
     "data": {
      "text/plain": [
       "2518018509184"
      ]
     },
     "execution_count": 1,
     "metadata": {},
     "output_type": "execute_result"
    }
   ],
   "source": [
    "a = [1,2,3]\n",
    "id(a)"
   ]
  },
  {
   "cell_type": "code",
   "execution_count": 2,
   "id": "07fb07d0-c510-4b74-a494-19e89bec7f42",
   "metadata": {},
   "outputs": [
    {
     "data": {
      "text/plain": [
       "[1, 2, 3]"
      ]
     },
     "execution_count": 2,
     "metadata": {},
     "output_type": "execute_result"
    }
   ],
   "source": [
    "a"
   ]
  },
  {
   "cell_type": "markdown",
   "id": "95b436b6-d719-4287-8262-f6bd3820ff43",
   "metadata": {},
   "source": [
    "## "
   ]
  },
  {
   "cell_type": "markdown",
   "id": "9c4c4a55-0399-484d-a134-3a894f6923d6",
   "metadata": {},
   "source": [
    "b = a   # = 은 같다는 뜻이 아닌 a값을 b에 대입하라는 뜻\n",
    "b"
   ]
  },
  {
   "cell_type": "code",
   "execution_count": 4,
   "id": "a28e2664-4f97-4fe4-b303-a62d902c3297",
   "metadata": {},
   "outputs": [
    {
     "name": "stdout",
     "output_type": "stream",
     "text": [
      "2518018509184\n",
      "2518018509184\n"
     ]
    }
   ],
   "source": [
    "print(id(a))\n",
    "print(id(b))"
   ]
  },
  {
   "cell_type": "code",
   "execution_count": 5,
   "id": "452ef144-d240-43d3-94cb-0a54b04b99fc",
   "metadata": {},
   "outputs": [
    {
     "data": {
      "text/plain": [
       "[1, 4, 3]"
      ]
     },
     "execution_count": 5,
     "metadata": {},
     "output_type": "execute_result"
    }
   ],
   "source": [
    "a[1] = 4\n",
    "a"
   ]
  },
  {
   "cell_type": "code",
   "execution_count": 7,
   "id": "d4908a2a-10e6-456b-ad8a-8877ced8f9c9",
   "metadata": {},
   "outputs": [
    {
     "data": {
      "text/plain": [
       "[1, 4, 3]"
      ]
     },
     "execution_count": 7,
     "metadata": {},
     "output_type": "execute_result"
    }
   ],
   "source": [
    "b"
   ]
  },
  {
   "cell_type": "code",
   "execution_count": 8,
   "id": "b33243d9-f3dc-44d8-83cc-4fb5b628ddbe",
   "metadata": {},
   "outputs": [
    {
     "data": {
      "text/plain": [
       "True"
      ]
     },
     "execution_count": 8,
     "metadata": {},
     "output_type": "execute_result"
    }
   ],
   "source": [
    "a is b "
   ]
  },
  {
   "cell_type": "markdown",
   "id": "4c05911c-c026-4077-b441-b58c4f791406",
   "metadata": {},
   "source": [
    "## b변수 생성할 떄 a 변수의 값을 가져오면 a와는 다른 주소를 가르키도록 하려면?"
   ]
  },
  {
   "cell_type": "code",
   "execution_count": 10,
   "id": "43568a06-0020-4a4e-b226-037cfc56aea6",
   "metadata": {},
   "outputs": [
    {
     "data": {
      "text/plain": [
       "[1, 2, 3]"
      ]
     },
     "execution_count": 10,
     "metadata": {},
     "output_type": "execute_result"
    }
   ],
   "source": [
    "# [:] 이용하기.\n",
    "a = [1,2,3]\n",
    "b = a[:]\n",
    "b"
   ]
  },
  {
   "cell_type": "code",
   "execution_count": 11,
   "id": "283b2c01-05c7-4804-921a-3d656a3c39b4",
   "metadata": {},
   "outputs": [
    {
     "data": {
      "text/plain": [
       "[1, 4, 3]"
      ]
     },
     "execution_count": 11,
     "metadata": {},
     "output_type": "execute_result"
    }
   ],
   "source": [
    "a[1] = 4\n",
    "a"
   ]
  },
  {
   "cell_type": "code",
   "execution_count": 12,
   "id": "4af16edb-b0d0-42d0-899c-9894c8922d47",
   "metadata": {},
   "outputs": [
    {
     "data": {
      "text/plain": [
       "[1, 2, 3]"
      ]
     },
     "execution_count": 12,
     "metadata": {},
     "output_type": "execute_result"
    }
   ],
   "source": [
    "b"
   ]
  },
  {
   "cell_type": "code",
   "execution_count": 13,
   "id": "d7f64bad-6bb3-4f13-be6d-eba3a6492e3d",
   "metadata": {},
   "outputs": [
    {
     "name": "stdout",
     "output_type": "stream",
     "text": [
      "2518018453888\n",
      "2518019056832\n"
     ]
    }
   ],
   "source": [
    "print(id(a))\n",
    "print(id(b))"
   ]
  },
  {
   "cell_type": "code",
   "execution_count": 1,
   "id": "026eea3d-fac5-449b-ae2a-abce5c819939",
   "metadata": {},
   "outputs": [
    {
     "data": {
      "text/plain": [
       "[1, 2, 3]"
      ]
     },
     "execution_count": 1,
     "metadata": {},
     "output_type": "execute_result"
    }
   ],
   "source": [
    "# copy모듈 이용하기\n",
    "from copy import copy\n",
    "a = [1,2,3]\n",
    "b = copy(a)\n",
    "b"
   ]
  },
  {
   "cell_type": "code",
   "execution_count": 2,
   "id": "2dbbbdb5-a7ed-45e7-ac4d-b77333a2e646",
   "metadata": {},
   "outputs": [
    {
     "data": {
      "text/plain": [
       "False"
      ]
     },
     "execution_count": 2,
     "metadata": {},
     "output_type": "execute_result"
    }
   ],
   "source": [
    "b is a"
   ]
  },
  {
   "cell_type": "code",
   "execution_count": 3,
   "id": "47b555c2-7432-46cf-9ddc-43d93ab447ea",
   "metadata": {},
   "outputs": [
    {
     "name": "stdout",
     "output_type": "stream",
     "text": [
      "[1, 2, 5]\n",
      "[1, 2, 3]\n",
      "2714828453376\n",
      "2714853578944\n"
     ]
    }
   ],
   "source": [
    "a[2] = 5\n",
    "print(a)\n",
    "print(b)\n",
    "print(id(a))\n",
    "print(id(b))"
   ]
  },
  {
   "cell_type": "code",
   "execution_count": 5,
   "id": "0ce6b208-d78c-4506-9b45-b0ce6bf1c7b9",
   "metadata": {},
   "outputs": [
    {
     "data": {
      "text/plain": [
       "False"
      ]
     },
     "execution_count": 5,
     "metadata": {},
     "output_type": "execute_result"
    }
   ],
   "source": [
    "# 리스트의 copy()\n",
    "a = [1,2,3] 이용\n",
    "b = a.copy()\n",
    "b is a"
   ]
  },
  {
   "cell_type": "markdown",
   "id": "0ea325d5-0e26-4a04-8c73-489dcf65fc0e",
   "metadata": {},
   "source": [
    "## 3.변수 만드는 여러가지 방법"
   ]
  },
  {
   "cell_type": "code",
   "execution_count": 6,
   "id": "d7891bf6-2204-4135-8cfa-f80a20b770fc",
   "metadata": {},
   "outputs": [
    {
     "name": "stdout",
     "output_type": "stream",
     "text": [
      "python\n",
      "life\n"
     ]
    }
   ],
   "source": [
    "# 튜플로 만들기\n",
    "a, b = ('python', 'life')\n",
    "print(a)\n",
    "print(b)"
   ]
  },
  {
   "cell_type": "code",
   "execution_count": 7,
   "id": "6f7ff5c6-c961-42f2-88f2-b1fdfa97059c",
   "metadata": {},
   "outputs": [
    {
     "name": "stdout",
     "output_type": "stream",
     "text": [
      "python\n",
      "life\n"
     ]
    }
   ],
   "source": [
    "a, b = 'python', 'life'\n",
    "print(a)\n",
    "print(b)"
   ]
  },
  {
   "cell_type": "code",
   "execution_count": 8,
   "id": "9850202b-3703-4a2a-8225-8156edf8d0e9",
   "metadata": {},
   "outputs": [
    {
     "name": "stdout",
     "output_type": "stream",
     "text": [
      "python\n",
      "life\n"
     ]
    }
   ],
   "source": [
    "#리스트로 변수 만들기\n",
    "[a, b]=['python', 'life']\n",
    "print(a)\n",
    "print(b)"
   ]
  },
  {
   "cell_type": "code",
   "execution_count": 10,
   "id": "2aaed438-521d-464e-9a69-036a0736d6e1",
   "metadata": {},
   "outputs": [
    {
     "name": "stdout",
     "output_type": "stream",
     "text": [
      "python\n",
      "python\n",
      "2714753952064\n",
      "2714753952064\n"
     ]
    }
   ],
   "source": [
    "# 여러개 변수에 같은 값 대입\n",
    "a = b = 'python'\n",
    "print(a)\n",
    "print(b)\n",
    "print(id(a))\n",
    "print(id(b))"
   ]
  },
  {
   "cell_type": "code",
   "execution_count": 11,
   "id": "2eab9325-a04f-4c9f-8eda-9f6d219031c1",
   "metadata": {},
   "outputs": [
    {
     "name": "stdout",
     "output_type": "stream",
     "text": [
      "[5, 2, 3]\n",
      "[5, 2, 3]\n",
      "2714867561920\n",
      "2714867561920\n"
     ]
    }
   ],
   "source": [
    "a = b = [1,2,3]\n",
    "a[0] = 5\n",
    "print(a)\n",
    "print(b)\n",
    "print(id(a))\n",
    "print(id(b))"
   ]
  },
  {
   "cell_type": "code",
   "execution_count": 14,
   "id": "8c628a0a-efaf-49a8-84ee-3ccdde36cb56",
   "metadata": {},
   "outputs": [
    {
     "name": "stdout",
     "output_type": "stream",
     "text": [
      "5\n",
      "3\n"
     ]
    }
   ],
   "source": [
    "# 두 변수의 값 바꾸기\n",
    "a = 3\n",
    "b = 5\n",
    "a,b = b,a\n",
    "print(a)\n",
    "print(b)"
   ]
  },
  {
   "cell_type": "code",
   "execution_count": null,
   "id": "9dee49e1-01ec-45bc-ae47-c3d5f21a9d69",
   "metadata": {},
   "outputs": [],
   "source": []
  }
 ],
 "metadata": {
  "kernelspec": {
   "display_name": "Python 3 (ipykernel)",
   "language": "python",
   "name": "python3"
  },
  "language_info": {
   "codemirror_mode": {
    "name": "ipython",
    "version": 3
   },
   "file_extension": ".py",
   "mimetype": "text/x-python",
   "name": "python",
   "nbconvert_exporter": "python",
   "pygments_lexer": "ipython3",
   "version": "3.13.5"
  }
 },
 "nbformat": 4,
 "nbformat_minor": 5
}
