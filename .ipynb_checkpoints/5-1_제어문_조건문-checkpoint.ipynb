{
 "cells": [
  {
   "cell_type": "markdown",
   "id": "1093d415-a58b-4613-9804-f8cae472dc59",
   "metadata": {},
   "source": [
    "## 1. if문의 기분 구조"
   ]
  },
  {
   "cell_type": "code",
   "execution_count": 5,
   "id": "3c50fcd2-0b45-4506-8143-6e91905886ad",
   "metadata": {},
   "outputs": [
    {
     "ename": "IndentationError",
     "evalue": "unexpected indent (1841204671.py, line 5)",
     "output_type": "error",
     "traceback": [
      "\u001b[1;36m  Cell \u001b[1;32mIn[5], line 5\u001b[1;36m\u001b[0m\n\u001b[1;33m    print(\"가라\")\u001b[0m\n\u001b[1;37m    ^\u001b[0m\n\u001b[1;31mIndentationError\u001b[0m\u001b[1;31m:\u001b[0m unexpected indent\n"
     ]
    }
   ],
   "source": [
    "money = True\n",
    "if money:\n",
    "    print(\"택시를\")\n",
    "print(\"타고\")\n",
    "    print(\"가라\")"
   ]
  },
  {
   "cell_type": "code",
   "execution_count": 6,
   "id": "c3c7c90c-494c-4246-9c2a-d59b704d3aff",
   "metadata": {},
   "outputs": [
    {
     "name": "stdout",
     "output_type": "stream",
     "text": [
      "타고\n"
     ]
    }
   ],
   "source": [
    "money = False\n",
    "if money:\n",
    "    print(\"택시를\")\n",
    "print(\"타고\")"
   ]
  },
  {
   "cell_type": "code",
   "execution_count": 10,
   "id": "817c1275-d24d-44b4-b771-fc1e3b8fb61d",
   "metadata": {},
   "outputs": [
    {
     "name": "stdout",
     "output_type": "stream",
     "text": [
      "택시를\n",
      "타고\n"
     ]
    }
   ],
   "source": [
    "money = True\n",
    "if money:\n",
    "    print(\"택시를\")\n",
    "    print(\"타고\")"
   ]
  },
  {
   "cell_type": "code",
   "execution_count": 13,
   "id": "7c5fa415-46fd-4537-a96f-f90ab6b267fb",
   "metadata": {},
   "outputs": [
    {
     "ename": "SyntaxError",
     "evalue": "expected ':' (395285662.py, line 1)",
     "output_type": "error",
     "traceback": [
      "\u001b[1;36m  Cell \u001b[1;32mIn[13], line 1\u001b[1;36m\u001b[0m\n\u001b[1;33m    if money\u001b[0m\n\u001b[1;37m            ^\u001b[0m\n\u001b[1;31mSyntaxError\u001b[0m\u001b[1;31m:\u001b[0m expected ':'\n"
     ]
    }
   ],
   "source": [
    "if money\n",
    "    print(\"택시를 타고\")"
   ]
  },
  {
   "cell_type": "markdown",
   "id": "e1eeb383-a34e-48d4-bab5-2fd51d0889f2",
   "metadata": {},
   "source": [
    "## 2. 연산자"
   ]
  },
  {
   "cell_type": "code",
   "execution_count": 14,
   "id": "b0ebc2b8-c893-4f3e-9e74-7c302047264a",
   "metadata": {},
   "outputs": [
    {
     "name": "stdout",
     "output_type": "stream",
     "text": [
      "True\n",
      "False\n",
      "False\n",
      "True\n"
     ]
    }
   ],
   "source": [
    "# 비교 연산자\n",
    "x = 3\n",
    "y = 2\n",
    "\n",
    "print(x>y)  # True\n",
    "print(x<y)  # False\n",
    "print(x==y) # False\n",
    "print(x!=y) # True"
   ]
  },
  {
   "cell_type": "code",
   "execution_count": 18,
   "id": "df561bb8-973b-4d0f-89de-d21dff6fc1d3",
   "metadata": {},
   "outputs": [
    {
     "name": "stdout",
     "output_type": "stream",
     "text": [
      "걸어가라\n"
     ]
    }
   ],
   "source": [
    "money = 2000\n",
    "\n",
    "if money >=3000:\n",
    "    print(\"택시를 타고 가라\")\n",
    "else:\n",
    "    print(\"걸어가라\")"
   ]
  },
  {
   "cell_type": "code",
   "execution_count": 21,
   "id": "992be7e8-9891-4f5c-9594-189297bce229",
   "metadata": {},
   "outputs": [
    {
     "name": "stdout",
     "output_type": "stream",
     "text": [
      "택시를 타고 가라\n"
     ]
    }
   ],
   "source": [
    "# 논리 연산자\n",
    "# 조건식이 x, y => and  둘다 True일 때 True\n",
    "#                  or 하나만 True이면 True\n",
    "#                 not True->False, False->True\n",
    "\n",
    "money = 0\n",
    "card = True\n",
    "\n",
    "if money >=3000 or card:\n",
    "    print(\"택시를 타고 가라\")\n",
    "else:\n",
    "    print(\"걸어가라\")"
   ]
  },
  {
   "cell_type": "code",
   "execution_count": 22,
   "id": "533c8ec5-bd2a-4766-b1a7-4b90df4b5d9f",
   "metadata": {},
   "outputs": [
    {
     "data": {
      "text/plain": [
       "True"
      ]
     },
     "execution_count": 22,
     "metadata": {},
     "output_type": "execute_result"
    }
   ],
   "source": [
    "# in, not in\n",
    "1 in [1,2,3]"
   ]
  },
  {
   "cell_type": "code",
   "execution_count": 23,
   "id": "b6eb0b4e-3961-4528-9735-7887a50370bf",
   "metadata": {},
   "outputs": [
    {
     "data": {
      "text/plain": [
       "False"
      ]
     },
     "execution_count": 23,
     "metadata": {},
     "output_type": "execute_result"
    }
   ],
   "source": [
    "1 not in [1,2,3]"
   ]
  },
  {
   "cell_type": "code",
   "execution_count": 25,
   "id": "69a8c5fd-22bc-4256-9e00-b555351e9c03",
   "metadata": {},
   "outputs": [
    {
     "data": {
      "text/plain": [
       "True"
      ]
     },
     "execution_count": 25,
     "metadata": {},
     "output_type": "execute_result"
    }
   ],
   "source": [
    "'a' in ('a','b','c')"
   ]
  },
  {
   "cell_type": "code",
   "execution_count": 26,
   "id": "5b6561bd-9b2e-477a-815b-a26e52b179b3",
   "metadata": {},
   "outputs": [
    {
     "data": {
      "text/plain": [
       "False"
      ]
     },
     "execution_count": 26,
     "metadata": {},
     "output_type": "execute_result"
    }
   ],
   "source": [
    "'d' in ('a','b','c')"
   ]
  },
  {
   "cell_type": "code",
   "execution_count": 27,
   "id": "9e03b443-fc0a-4c12-9730-ef2147689be1",
   "metadata": {},
   "outputs": [
    {
     "data": {
      "text/plain": [
       "True"
      ]
     },
     "execution_count": 27,
     "metadata": {},
     "output_type": "execute_result"
    }
   ],
   "source": [
    "'d' not in ('a','b','c')"
   ]
  },
  {
   "cell_type": "code",
   "execution_count": 29,
   "id": "f7208f3b-cddf-4a59-b1fc-335b7f560433",
   "metadata": {},
   "outputs": [
    {
     "name": "stdout",
     "output_type": "stream",
     "text": [
      "택시를 타고 가라\n"
     ]
    }
   ],
   "source": [
    "pocket = ['paper','cellphone','money']\n",
    "\n",
    "if 'money' in pocket:\n",
    "    print(\"택시를 타고 가라\")\n",
    "else:\n",
    "    print(\"걸어가라\")"
   ]
  },
  {
   "cell_type": "code",
   "execution_count": 48,
   "id": "f118a70e-a325-4c2b-9cdc-23f7575adc2d",
   "metadata": {},
   "outputs": [],
   "source": [
    "# pass : 실행문 실행하지 않고 넘어가기\n",
    "pocket = ['paper','cellphone','money']\n",
    "\n",
    "if 'money' in pocket:\n",
    "    pass\n",
    "else:\n",
    "    print(\"카드를 꺼내라\")"
   ]
  },
  {
   "cell_type": "markdown",
   "id": "e7294f65-2eb4-410e-ad33-45c4221c66d6",
   "metadata": {},
   "source": [
    "## 3. 다양한 조건을 판단하는 elif"
   ]
  },
  {
   "cell_type": "code",
   "execution_count": 41,
   "id": "caf5875c-8c42-459d-97a4-7697d6bb9841",
   "metadata": {},
   "outputs": [
    {
     "name": "stdout",
     "output_type": "stream",
     "text": [
      "택시를 타고 가라\n"
     ]
    }
   ],
   "source": [
    "# if, else만으로 표현\n",
    "\n",
    "pocket = ['paper','cellphone']\n",
    "card = True\n",
    "\n",
    "if 'money' in pocket:\n",
    "    print(\"택시를 타고 가라\")\n",
    "else:\n",
    "    if card:\n",
    "        print(\"택시를 타고 가라\")\n",
    "    else:\n",
    "        print(\"걸어가라\")"
   ]
  },
  {
   "cell_type": "code",
   "execution_count": 44,
   "id": "d153dc4c-bf2a-4157-b587-efed8eb82f7c",
   "metadata": {},
   "outputs": [
    {
     "name": "stdout",
     "output_type": "stream",
     "text": [
      "카드로 택시를 타고 가라\n"
     ]
    }
   ],
   "source": [
    "# elif 사용\n",
    "\n",
    "pocket = ['paper','cellphone']\n",
    "card = True\n",
    "\n",
    "if 'money' in pocket:\n",
    "    print(\"택시를 타고 가라\")\n",
    "elif card:\n",
    "    print(\"카드로 택시를 타고 가라\")\n",
    "else:\n",
    "    print(\"걸어가라\")"
   ]
  },
  {
   "cell_type": "code",
   "execution_count": null,
   "id": "7ce6728f-f21d-47a9-b3f8-c27b7c43df06",
   "metadata": {},
   "outputs": [],
   "source": [
    "math = 60\n",
    "\n",
    "if math>=90:\n",
    "    print('A')\n",
    "elif math>=80:\n",
    "    print('B')\n",
    "elif math>=70:\n",
    "    print('C')\n",
    "elif math>=60:\n",
    "    print('D')\n",
    "elif:\n",
    "    print('F')"
   ]
  },
  {
   "cell_type": "code",
   "execution_count": 49,
   "id": "406af844-31a5-4035-a36b-fe510eea281e",
   "metadata": {},
   "outputs": [],
   "source": [
    "# if문 한 줄로 작성하기\n",
    "\n",
    "pocket = ['paper','cellphone','money']\n",
    "\n",
    "if 'money' in pocket: pass\n",
    "else: print(\"카드를 꺼내라\")"
   ]
  },
  {
   "cell_type": "markdown",
   "id": "17c3aef8-2549-4f37-aa27-34d53f4816cf",
   "metadata": {},
   "source": [
    "## 4. 조건문 표현식"
   ]
  },
  {
   "cell_type": "code",
   "execution_count": 50,
   "id": "1abe8b10-6ce6-4409-ac58-89f1ea717fde",
   "metadata": {},
   "outputs": [
    {
     "name": "stdout",
     "output_type": "stream",
     "text": [
      "seccess\n"
     ]
    }
   ],
   "source": [
    "# if / else 문\n",
    "\n",
    "score=90\n",
    "\n",
    "if score >=60:\n",
    "    message=\"seccess\"\n",
    "else:\n",
    "    message=\"failure\"\n",
    "\n",
    "print(message)"
   ]
  },
  {
   "cell_type": "code",
   "execution_count": 54,
   "id": "4db388c6-2285-4014-9377-f6e15a2657d2",
   "metadata": {},
   "outputs": [
    {
     "name": "stdout",
     "output_type": "stream",
     "text": [
      "seccess\n"
     ]
    }
   ],
   "source": [
    "# 조건부 표현식\n",
    "\n",
    "message = \"seccess\" if score >=60 else \"failure\"\n",
    "print(message)"
   ]
  }
 ],
 "metadata": {
  "kernelspec": {
   "display_name": "Python 3 (ipykernel)",
   "language": "python",
   "name": "python3"
  },
  "language_info": {
   "codemirror_mode": {
    "name": "ipython",
    "version": 3
   },
   "file_extension": ".py",
   "mimetype": "text/x-python",
   "name": "python",
   "nbconvert_exporter": "python",
   "pygments_lexer": "ipython3",
   "version": "3.13.5"
  }
 },
 "nbformat": 4,
 "nbformat_minor": 5
}
